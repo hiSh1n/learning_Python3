{
 "cells": [
  {
   "cell_type": "markdown",
   "metadata": {},
   "source": [
    "Do the following using the PANDAS Series:\n",
    "a. Create a series with 5 elements. Display the series sorted on index and also sorted on values separately\n",
    "b. Create a series with N elements with some duplicate values. Find the minimum and maximum ranks assigned to the values using the ‘first’ and ‘max’ methods\n",
    "c. Display the index value of the minimum and maximum element of a Series"
   ]
  },
  {
   "cell_type": "code",
   "execution_count": 1,
   "metadata": {},
   "outputs": [
    {
     "data": {
      "text/plain": [
       "Index([6], dtype='int64')"
      ]
     },
     "execution_count": 1,
     "metadata": {},
     "output_type": "execute_result"
    }
   ],
   "source": [
    "import pandas as pd\n",
    "#1\n",
    "s1 = pd.Series([4,5,6,7,3], index=[3,2,9,5,6])\n",
    "s1.sort_index()\n",
    "s1.sort_values()\n",
    "\n",
    "#2\n",
    "# s2 = pd.Series([2,3,3,4,7,3,9,9,10]) Did not understood this question.\n",
    "# s2.first()\n",
    "\n",
    "#3\n",
    "smax = (s1 == s1.min())\n",
    "s1.index[smax]\n",
    "smin = (s1 == s1.min())\n",
    "s1.index[smin]"
   ]
  },
  {
   "cell_type": "code",
   "execution_count": null,
   "metadata": {},
   "outputs": [],
   "source": []
  },
  {
   "cell_type": "code",
   "execution_count": null,
   "metadata": {},
   "outputs": [],
   "source": []
  }
 ],
 "metadata": {
  "kernelspec": {
   "display_name": "Python 3",
   "language": "python",
   "name": "python3"
  },
  "language_info": {
   "codemirror_mode": {
    "name": "ipython",
    "version": 3
   },
   "file_extension": ".py",
   "mimetype": "text/x-python",
   "name": "python",
   "nbconvert_exporter": "python",
   "pygments_lexer": "ipython3",
   "version": "3.12.0"
  }
 },
 "nbformat": 4,
 "nbformat_minor": 2
}
