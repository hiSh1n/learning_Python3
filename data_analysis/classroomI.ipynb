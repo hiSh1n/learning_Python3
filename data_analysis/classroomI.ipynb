{
 "cells": [
  {
   "cell_type": "markdown",
   "metadata": {},
   "source": [
    "rides.csv:\n",
    "Drivers Active Per Hour,Riders Active Per Hour,Rides Completed\n",
    "72,295,202\n",
    "50,78,43\n",
    "40,250,181\n",
    "78,140,124\n",
    "74,195,108\n",
    "37,291,172\n",
    "46,94,79\n",
    "97,280,166\n",
    "61,134,99\n",
    "49,224,51\n",
    "68,145,70\n",
    "37,69,29\n",
    "99,113,93\n",
    "90,200,81\n",
    "44,286,196\n",
    "47,279,248\n",
    "28,235,147\n",
    "78,173,100\n",
    "62,205,80\n"
   ]
  },
  {
   "cell_type": "markdown",
   "metadata": {},
   "source": [
    "Create ndarrays using various ways.\n",
    "Implement the following attributes/functions:\n",
    "ndim, shape, type, T, transpose, reshape, swapaxes, astype.\n",
    "\n",
    "Arithmetic with NumPy Arrays on 1d and 2d arrays.\n",
    "\n",
    "Indexing and Slicing, Boolean Indexing on Numpy"
   ]
  },
  {
   "cell_type": "code",
   "execution_count": 39,
   "metadata": {},
   "outputs": [
    {
     "name": "stdout",
     "output_type": "stream",
     "text": [
      "[0 1 2 3 4 5 6 7 8 9]\n",
      "[[4 3 2 2]\n",
      " [5 4 3 3]]\n",
      "[[[7 9 5]\n",
      "  [9 8 3]\n",
      "  [1 7 0]]\n",
      "\n",
      " [[8 1 6]\n",
      "  [0 9 6]\n",
      "  [6 5 4]]\n",
      "\n",
      " [[5 5 7]\n",
      "  [8 9 5]\n",
      "  [7 9 1]]]\n"
     ]
    }
   ],
   "source": [
    "import numpy as np\n",
    "\n",
    "# 1d array using arange function.\n",
    "s1 = np.arange(10)\n",
    "print(s1)\n",
    "\n",
    "#2d array using array function.\n",
    "s2 = np.array([[4,3,2,2],[5,4,3,3]])\n",
    "print(s2)\n",
    "\n",
    "# 3d array using random function.\n",
    "s3 = np.random.randint(0,10, size=[3,3,3])\n",
    "print(s3)\n"
   ]
  },
  {
   "cell_type": "markdown",
   "metadata": {},
   "source": [
    "Implement the following attributes/functions:\n",
    "ndim, shape, type, T, transpose, reshape, swapaxes, astype."
   ]
  },
  {
   "cell_type": "code",
   "execution_count": 44,
   "metadata": {},
   "outputs": [
    {
     "name": "stdout",
     "output_type": "stream",
     "text": [
      "1 2 3\n",
      "(10,) (2, 4) (3, 3, 3)\n",
      "int32 int32 int32\n",
      "[[4 5]\n",
      " [3 4]\n",
      " [2 3]\n",
      " [2 3]]\n",
      "[[4 5]\n",
      " [3 4]\n",
      " [2 3]\n",
      " [2 3]]\n",
      "dtype of s3 is int32\n"
     ]
    },
    {
     "data": {
      "text/plain": [
       "array([[[7., 9., 5.],\n",
       "        [9., 8., 3.],\n",
       "        [1., 7., 0.]],\n",
       "\n",
       "       [[8., 1., 6.],\n",
       "        [0., 9., 6.],\n",
       "        [6., 5., 4.]],\n",
       "\n",
       "       [[5., 5., 7.],\n",
       "        [8., 9., 5.],\n",
       "        [7., 9., 1.]]])"
      ]
     },
     "execution_count": 44,
     "metadata": {},
     "output_type": "execute_result"
    }
   ],
   "source": [
    "print(s1.ndim,s2.ndim, s3.ndim)\n",
    "print(s1.shape,s2.shape,s3.shape)\n",
    "print(s1.dtype,s2.dtype,s3.dtype)\n",
    "ft = s2.T\n",
    "print(ft)\n",
    "ftranspose = s2.transpose()\n",
    "print(ftranspose)\n",
    "#both are basically the same but we provide custom axis with transpose, it comes useful in multi-dimentional arrays.\n",
    "s2.size\n",
    "s2\n",
    "s2.reshape(2,2,2)\n",
    "swappeds2 = np.swapaxes(s2, 0,1)\n",
    "s2\n",
    "print('dtype of s3 is',s3.dtype)\n",
    "s3.astype(float)\n",
    "\n"
   ]
  },
  {
   "cell_type": "markdown",
   "metadata": {},
   "source": [
    "Arithmetic with numpy arrays on 1d and 2d arrays.  "
   ]
  },
  {
   "cell_type": "code",
   "execution_count": 11,
   "metadata": {},
   "outputs": [
    {
     "name": "stdout",
     "output_type": "stream",
     "text": [
      "[ 0  1  2  3  4  5  6  7  8  9 10] [10 11 12 13 14 15 16 17 18 19 20]\n"
     ]
    },
    {
     "name": "stderr",
     "output_type": "stream",
     "text": [
      "C:\\Users\\kant\\AppData\\Local\\Temp\\ipykernel_7928\\2137283669.py:8: RuntimeWarning: divide by zero encountered in divide\n",
      "  arr2 / arr1\n"
     ]
    },
    {
     "data": {
      "text/plain": [
       "array([ 2,  3,  4,  5,  6,  7,  8,  9, 10, 11, 12])"
      ]
     },
     "execution_count": 11,
     "metadata": {},
     "output_type": "execute_result"
    }
   ],
   "source": [
    "import numpy as np\n",
    "\n",
    "arr1 = np.arange(11)\n",
    "arr2 = np.arange(10,21)\n",
    "print(arr1,arr2)\n",
    "arr2 + arr1\n",
    "arr1 * arr2\n",
    "arr2 / arr1\n",
    "arr1 // arr2\n",
    "\n",
    "arr1 + 2\n"
   ]
  },
  {
   "cell_type": "markdown",
   "metadata": {},
   "source": [
    "Indexing and slicing, Boolean indexing on numpy"
   ]
  },
  {
   "cell_type": "code",
   "execution_count": 18,
   "metadata": {},
   "outputs": [
    {
     "data": {
      "text/plain": [
       "array([ 0,  2,  4,  6,  8, 10])"
      ]
     },
     "execution_count": 18,
     "metadata": {},
     "output_type": "execute_result"
    }
   ],
   "source": [
    "arr1[0]\n",
    "arr2[5]\n",
    "arr1[1:5] + arr2[1:5]\n",
    "#boolean indexing for even numbers\n",
    "Bindex = arr1 % 2 ==0\n",
    "arr1[Bindex]"
   ]
  },
  {
   "cell_type": "markdown",
   "metadata": {},
   "source": [
    "create series and data frame using different ways:\n",
    " 2d ndarray \n",
    " dict of arrays \n",
    " lists \n",
    " tupes \n",
    " dict of series\n",
    " dict of dicts\n",
    " list of dicts or series"
   ]
  },
  {
   "cell_type": "code",
   "execution_count": null,
   "metadata": {},
   "outputs": [],
   "source": [
    "\n"
   ]
  },
  {
   "cell_type": "markdown",
   "metadata": {},
   "source": [
    "Use of indexing, index methods (append, difference, intersection, union, isin, delete, drop, insert, is_monotonic, is_unique, unique).\n",
    "Reindexing, Selection, and Filtering, Selection with loc and iloc. Arthimetic and Data Alignment (add, radd, sub, rsub, dic, rdiv, floordiv, mul,rmul, pow, rpow)"
   ]
  },
  {
   "cell_type": "code",
   "execution_count": 36,
   "metadata": {},
   "outputs": [
    {
     "name": "stdout",
     "output_type": "stream",
     "text": [
      "This is data head\n",
      "    Drivers Active Per Hour  Riders Active Per Hour  Rides Completed\n",
      "0                       72                     295            202.0\n",
      "1                       50                      78             43.0\n",
      "2                       40                     250            181.0\n",
      "3                       78                     140            124.0\n",
      "4                       74                     195            108.0\n",
      "\n",
      "0    72\n",
      "1    50\n",
      "2    40\n",
      "3    78\n",
      "4    74\n",
      "5    37\n",
      "6    46\n",
      "7    97\n",
      "8    61\n",
      "9    49\n",
      "Name: Drivers Active Per Hour, dtype: int64\n",
      "   Drivers Active Per Hour  Riders Active Per Hour\n",
      "0                       72                     295\n",
      "1                       50                      78\n"
     ]
    },
    {
     "data": {
      "text/html": [
       "<div>\n",
       "<style scoped>\n",
       "    .dataframe tbody tr th:only-of-type {\n",
       "        vertical-align: middle;\n",
       "    }\n",
       "\n",
       "    .dataframe tbody tr th {\n",
       "        vertical-align: top;\n",
       "    }\n",
       "\n",
       "    .dataframe thead th {\n",
       "        text-align: right;\n",
       "    }\n",
       "</style>\n",
       "<table border=\"1\" class=\"dataframe\">\n",
       "  <thead>\n",
       "    <tr style=\"text-align: right;\">\n",
       "      <th></th>\n",
       "      <th>Drivers Active Per Hour</th>\n",
       "      <th>Riders Active Per Hour</th>\n",
       "      <th>Rides Completed</th>\n",
       "    </tr>\n",
       "  </thead>\n",
       "  <tbody>\n",
       "    <tr>\n",
       "      <th>80</th>\n",
       "      <td>10</td>\n",
       "      <td>230</td>\n",
       "      <td>96.0</td>\n",
       "    </tr>\n",
       "    <tr>\n",
       "      <th>326</th>\n",
       "      <td>10</td>\n",
       "      <td>155</td>\n",
       "      <td>56.0</td>\n",
       "    </tr>\n",
       "    <tr>\n",
       "      <th>1011</th>\n",
       "      <td>10</td>\n",
       "      <td>293</td>\n",
       "      <td>90.0</td>\n",
       "    </tr>\n",
       "    <tr>\n",
       "      <th>267</th>\n",
       "      <td>10</td>\n",
       "      <td>249</td>\n",
       "      <td>174.0</td>\n",
       "    </tr>\n",
       "    <tr>\n",
       "      <th>1046</th>\n",
       "      <td>10</td>\n",
       "      <td>221</td>\n",
       "      <td>111.0</td>\n",
       "    </tr>\n",
       "    <tr>\n",
       "      <th>...</th>\n",
       "      <td>...</td>\n",
       "      <td>...</td>\n",
       "      <td>...</td>\n",
       "    </tr>\n",
       "    <tr>\n",
       "      <th>809</th>\n",
       "      <td>100</td>\n",
       "      <td>248</td>\n",
       "      <td>145.0</td>\n",
       "    </tr>\n",
       "    <tr>\n",
       "      <th>1076</th>\n",
       "      <td>100</td>\n",
       "      <td>259</td>\n",
       "      <td>233.0</td>\n",
       "    </tr>\n",
       "    <tr>\n",
       "      <th>696</th>\n",
       "      <td>100</td>\n",
       "      <td>147</td>\n",
       "      <td>110.0</td>\n",
       "    </tr>\n",
       "    <tr>\n",
       "      <th>210</th>\n",
       "      <td>100</td>\n",
       "      <td>204</td>\n",
       "      <td>113.0</td>\n",
       "    </tr>\n",
       "    <tr>\n",
       "      <th>937</th>\n",
       "      <td>100</td>\n",
       "      <td>224</td>\n",
       "      <td>126.0</td>\n",
       "    </tr>\n",
       "  </tbody>\n",
       "</table>\n",
       "<p>1099 rows × 3 columns</p>\n",
       "</div>"
      ],
      "text/plain": [
       "      Drivers Active Per Hour  Riders Active Per Hour  Rides Completed\n",
       "80                         10                     230             96.0\n",
       "326                        10                     155             56.0\n",
       "1011                       10                     293             90.0\n",
       "267                        10                     249            174.0\n",
       "1046                       10                     221            111.0\n",
       "...                       ...                     ...              ...\n",
       "809                       100                     248            145.0\n",
       "1076                      100                     259            233.0\n",
       "696                       100                     147            110.0\n",
       "210                       100                     204            113.0\n",
       "937                       100                     224            126.0\n",
       "\n",
       "[1099 rows x 3 columns]"
      ]
     },
     "execution_count": 36,
     "metadata": {},
     "output_type": "execute_result"
    }
   ],
   "source": [
    "import pandas as pd\n",
    "data = pd.read_csv('./rides.csv')\n",
    "#printing the first 5 rows and all columns of the data\n",
    "print(f'This is data head\\n {data.head()}\\n')\n",
    "#printing first 10 rows of the first column\n",
    "first10 = data['Drivers Active Per Hour'].head(10)\n",
    "print(first10)\n",
    "#printing first two columns and 2 rows from each column\n",
    "a = data.iloc[:2,:2]\n",
    "print(a)\n",
    "data.sort_values(by=['Riders Active Per Hour'])\n"
   ]
  },
  {
   "cell_type": "code",
   "execution_count": null,
   "metadata": {},
   "outputs": [],
   "source": []
  }
 ],
 "metadata": {
  "kernelspec": {
   "display_name": "Python 3",
   "language": "python",
   "name": "python3"
  },
  "language_info": {
   "codemirror_mode": {
    "name": "ipython",
    "version": 3
   },
   "file_extension": ".py",
   "mimetype": "text/x-python",
   "name": "python",
   "nbconvert_exporter": "python",
   "pygments_lexer": "ipython3",
   "version": "3.12.0"
  }
 },
 "nbformat": 4,
 "nbformat_minor": 2
}
