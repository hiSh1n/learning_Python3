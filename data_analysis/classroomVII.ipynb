{
 "cells": [
  {
   "cell_type": "markdown",
   "metadata": {},
   "source": [
    "q4  "
   ]
  },
  {
   "cell_type": "code",
   "execution_count": 44,
   "metadata": {},
   "outputs": [
    {
     "name": "stdout",
     "output_type": "stream",
     "text": [
      "  name     date_x  duration_x     date_y  duration_y\n",
      "0    a 2014-04-01          30 2014-04-10          40\n",
      "1    b 2014-04-01          40 2014-04-10          40\n",
      "2    c 2014-04-01          30 2014-04-10          30\n",
      "3    e 2014-04-01          40 2014-04-10          40\n",
      "  name     date_1  duration_1     date_2  duration_2\n",
      "3    d 2014-04-01        40.0        NaT         NaN\n",
      "5    f 2014-04-01        30.0        NaT         NaN\n",
      "6    h 2014-04-01        40.0        NaT         NaN\n",
      "7   hg 2014-04-01        30.0        NaT         NaN\n",
      "8    i        NaT         NaN 2014-04-01        50.0\n",
      "9    k 2014-04-01        50.0        NaT         NaN\n",
      "0   name                          a\n",
      "    date        2014-04-01 00:00:00\n",
      "    duration                     30\n",
      "1   name                          b\n",
      "    date        2014-04-01 00:00:00\n",
      "    duration                     40\n",
      "2   name                          c\n",
      "    date        2014-04-01 00:00:00\n",
      "    duration                     30\n",
      "3   name                          k\n",
      "    date        2014-04-01 00:00:00\n",
      "    duration                     50\n",
      "4   name                          e\n",
      "    date        2014-04-01 00:00:00\n",
      "    duration                     40\n",
      "5   name                          f\n",
      "    date        2014-04-01 00:00:00\n",
      "    duration                     30\n",
      "6   name                         hg\n",
      "    date        2014-04-01 00:00:00\n",
      "    duration                     30\n",
      "7   name                          h\n",
      "    date        2014-04-01 00:00:00\n",
      "    duration                     40\n",
      "8   name                          d\n",
      "    date        2014-04-01 00:00:00\n",
      "    duration                     40\n",
      "9   name                          a\n",
      "    date        2014-04-10 00:00:00\n",
      "    duration                     40\n",
      "10  name                          b\n",
      "    date        2014-04-10 00:00:00\n",
      "    duration                     40\n",
      "11  name                          c\n",
      "    date        2014-04-10 00:00:00\n",
      "    duration                     30\n",
      "12  name                          e\n",
      "    date        2014-04-10 00:00:00\n",
      "    duration                     40\n",
      "13  name                          i\n",
      "    date        2014-04-01 00:00:00\n",
      "    duration                     50\n",
      "dtype: object\n"
     ]
    },
    {
     "data": {
      "text/plain": [
       "count                      42\n",
       "unique                     15\n",
       "top       2014-04-01 00:00:00\n",
       "freq                       10\n",
       "dtype: object"
      ]
     },
     "execution_count": 44,
     "metadata": {},
     "output_type": "execute_result"
    }
   ],
   "source": [
    "import pandas as pd\n",
    "work1 = pd.read_excel('Book1.xlsx')\n",
    "work2 = pd.read_excel('book2.xlsx')\n",
    "\n",
    "#1\n",
    "merged_df = pd.merge(work1, work2, on=\"name\", how=\"outer\", suffixes=('_1', '_2'))\n",
    "whoAttentedBoth = pd.merge(work1,work2, on='name') #using inner join\n",
    "print(whoAttentedBoth)\n",
    "\n",
    "#2\n",
    "whoAttentedone=merged_df[merged_df['date_1'].isnull() ^ merged_df['date_2'].isnull()]\n",
    "print(whoAttentedone)\n",
    "\n",
    "#3\n",
    "roWiseMerged = pd.concat([work1,work2],ignore_index=True)\n",
    "totalNumberOfRecords = len(roWiseMerged)\n",
    "totalNumberOfRecords\n",
    "\n",
    "#4\n",
    "roWiseMerged = roWiseMerged.stack()\n",
    "print(roWiseMerged)\n",
    "roWiseMerged.describe()"
   ]
  },
  {
   "cell_type": "code",
   "execution_count": 58,
   "metadata": {},
   "outputs": [
    {
     "name": "stdout",
     "output_type": "stream",
     "text": [
      "<class 'pandas.core.frame.DataFrame'>\n",
      "RangeIndex: 5 entries, 0 to 4\n",
      "Data columns (total 4 columns):\n",
      " #   Column  Non-Null Count  Dtype \n",
      "---  ------  --------------  ----- \n",
      " 0   name    5 non-null      object\n",
      " 1   age     5 non-null      int64 \n",
      " 2   salary  5 non-null      int64 \n",
      " 3   dept    5 non-null      object\n",
      "dtypes: int64(2), object(2)\n",
      "memory usage: 292.0+ bytes\n",
      "0.9926944792972929\n",
      "this corelation shows can be interpreted as;with age the salary of the person seems to increase as well\n"
     ]
    },
    {
     "data": {
      "image/png": "[encoded data removed]",
      "text/plain": [
       "<Figure size 640x480 with 1 Axes>"
      ]
     },
     "metadata": {},
     "output_type": "display_data"
    }
   ],
   "source": [
    "import matplotlib.pyplot as plt\n",
    "name = ['rohit','ranu','sapna','himanshu','sneha']\n",
    "age = [50,40,66,66,35]\n",
    "salary = [80000,70000,95000,95000,60000]\n",
    "dept = ['eng','maths','hindi','cs','eng']\n",
    "\n",
    "df = pd.DataFrame({'name':name,'age':age,'salary':salary,'dept':dept})\n",
    "\n",
    "#1\n",
    "df.info()\n",
    "#2\n",
    "df['salary'].mean()\n",
    "#3\n",
    "r = df[df['age']>65]\n",
    "#4\n",
    "df.drop(r.index)\n",
    "#5\n",
    "x=df['age']\n",
    "y = df['name']\n",
    "plt.plot(y,x,'o--')\n",
    "plt.title('average age')\n",
    "plt.ylabel('age-->')\n",
    "plt.xlabel('employee name -->')\n",
    "\n",
    "s = df['salary']\n",
    "c = s.corr(x)\n",
    "print(c)\n",
    "print('this corelation can be interpreted as;with age the salary of the person seems to increase as well')\n"
   ]
  },
  {
   "cell_type": "code",
   "execution_count": null,
   "metadata": {},
   "outputs": [],
   "source": []
  }
 ],
 "metadata": {
  "kernelspec": {
   "display_name": "Python 3",
   "language": "python",
   "name": "python3"
  },
  "language_info": {
   "codemirror_mode": {
    "name": "ipython",
    "version": 3
   },
   "file_extension": ".py",
   "mimetype": "text/x-python",
   "name": "python",
   "nbconvert_exporter": "python",
   "pygments_lexer": "ipython3",
   "version": "3.12.0"
  }
 },
 "nbformat": 4,
 "nbformat_minor": 2
}
