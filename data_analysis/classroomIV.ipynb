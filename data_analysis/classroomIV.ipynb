{
 "cells": [
  {
   "cell_type": "markdown",
   "metadata": {},
   "source": [
    "Write programs in Python using NumPy library to do the following:\n",
    "a. Compute the mean, standard deviation, and variance of a two-dimensional random integer array along the second axis.\n",
    "b. Create a 2-dimensional array of size m x n integer elements, also print the shape, type, and data type of the array, and then reshape it into an n x m array, where n and m are user inputs given at the run time.\n",
    "c. Test whether the elements of a given 1D array are zero, non-zero, and NaN. Record the indices of these elements in three separate arrays.\n",
    "d. Create three random arrays of the same size: Array1, Array2, and Array3. Subtract Array 2 from Array3 and store in Array4. Create another array Array5 having two times the values in Array1. Find the Covariance and Correlation of Array1 with Array4 and Array5 respectively.\n",
    "e. Create two random arrays of the same size 10: Array1, and Array2. Find the sum of the first half of both the arrays and the product of the second half of both arrays."
   ]
  },
  {
   "cell_type": "code",
   "execution_count": 62,
   "metadata": {},
   "outputs": [
    {
     "name": "stdout",
     "output_type": "stream",
     "text": [
      "24 (8, 3) int32 2\n",
      "[[6 8 6 5]\n",
      " [8 2 8 2]\n",
      " [2 0 9 3]]\n",
      "[6.25 5.   3.5 ]\n",
      "[1.08972474 3.         3.35410197]\n",
      "[ 1.1875  9.     11.25  ]\n"
     ]
    }
   ],
   "source": [
    "import numpy as np\n",
    "#e\n",
    "Array1 = np.random.randint(0,10,size=10)\n",
    "Array2 = np.random.randint(0,10,size=10)\n",
    "sum_of_first_half = Array1[:5]+Array2[:5]\n",
    "prod_of_second_half = Array1[5:]*Array2[5:]\n",
    "\n",
    "#d\n",
    "Array3 = np.random.randint(0,10,size=10)\n",
    "Array4 = Array3 - Array2\n",
    "Array5 = Array1*2\n",
    "covar_of_arr1_with_arr4 = np.cov(Array1,Array4)\n",
    "covar_of_arr1_with_arr5 = np.cov(Array1,Array5)\n",
    "corr_of_arr1_with_arr4 = np.corrcoef(Array1, Array4)\n",
    "corr_of_arr1_with_arr5 = np.corrcoef(Array1, Array5)\n",
    "\n",
    "#c\n",
    "oneDArr = np.array([2,3,0,np.nan,2,0,np.nan])\n",
    "zero = np.where(oneDArr == 0)\n",
    "non_zero = np.where(oneDArr > 0)\n",
    "Nan = np.where(np.isnan(oneDArr))\n",
    "# print(zero, non_zero,Nan)\n",
    "\n",
    "\n",
    "#b.\n",
    "m = 8\n",
    "n = 3\n",
    "arraymn = np.random.randint(0,100, size=(m*n)).reshape(m,n)\n",
    "arraymn.reshape(n,m)\n",
    "\n",
    "# a.\n",
    "array_2d = np.random.randint(0, 10, size=(3, 4))\n",
    "mean = np.mean(array_2d, axis=1)\n",
    "std_dev = np.std(array_2d, axis=1)\n",
    "variance = np.var(array_2d, axis=1)\n",
    "\n"
   ]
  }
 ],
 "metadata": {
  "kernelspec": {
   "display_name": "Python 3",
   "language": "python",
   "name": "python3"
  },
  "language_info": {
   "codemirror_mode": {
    "name": "ipython",
    "version": 3
   },
   "file_extension": ".py",
   "mimetype": "text/x-python",
   "name": "python",
   "nbconvert_exporter": "python",
   "pygments_lexer": "ipython3",
   "version": "3.12.0"
  }
 },
 "nbformat": 4,
 "nbformat_minor": 2
}
